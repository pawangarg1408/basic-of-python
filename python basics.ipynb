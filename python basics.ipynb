{
 "cells": [
  {
   "cell_type": "code",
   "execution_count": 1,
   "id": "4653bb6e",
   "metadata": {},
   "outputs": [
    {
     "name": "stdout",
     "output_type": "stream",
     "text": [
      "hello world\n"
     ]
    }
   ],
   "source": [
    "print('hello world')"
   ]
  },
  {
   "cell_type": "markdown",
   "id": "f8448020",
   "metadata": {},
   "source": [
    "### Datatype\n"
   ]
  },
  {
   "cell_type": "code",
   "execution_count": 4,
   "id": "eb19f924",
   "metadata": {},
   "outputs": [
    {
     "data": {
      "text/plain": [
       "10"
      ]
     },
     "execution_count": 4,
     "metadata": {},
     "output_type": "execute_result"
    }
   ],
   "source": [
    "x=10\n",
    "x"
   ]
  },
  {
   "cell_type": "code",
   "execution_count": 5,
   "id": "f1aed87d",
   "metadata": {},
   "outputs": [
    {
     "data": {
      "text/plain": [
       "int"
      ]
     },
     "execution_count": 5,
     "metadata": {},
     "output_type": "execute_result"
    }
   ],
   "source": [
    "type(x)"
   ]
  },
  {
   "cell_type": "code",
   "execution_count": 6,
   "id": "1ef94b9b",
   "metadata": {},
   "outputs": [
    {
     "data": {
      "text/plain": [
       "float"
      ]
     },
     "execution_count": 6,
     "metadata": {},
     "output_type": "execute_result"
    }
   ],
   "source": [
    "x=10.2\n",
    "type(x)"
   ]
  },
  {
   "cell_type": "code",
   "execution_count": 7,
   "id": "9b24e135",
   "metadata": {},
   "outputs": [
    {
     "data": {
      "text/plain": [
       "str"
      ]
     },
     "execution_count": 7,
     "metadata": {},
     "output_type": "execute_result"
    }
   ],
   "source": [
    "y='latha'\n",
    "type(y)"
   ]
  },
  {
   "cell_type": "code",
   "execution_count": 8,
   "id": "66fb081d",
   "metadata": {},
   "outputs": [
    {
     "data": {
      "text/plain": [
       "bool"
      ]
     },
     "execution_count": 8,
     "metadata": {},
     "output_type": "execute_result"
    }
   ],
   "source": [
    "z=True\n",
    "type(z)"
   ]
  },
  {
   "cell_type": "code",
   "execution_count": 9,
   "id": "088127c8",
   "metadata": {},
   "outputs": [
    {
     "data": {
      "text/plain": [
       "(str, 'ai')"
      ]
     },
     "execution_count": 9,
     "metadata": {},
     "output_type": "execute_result"
    }
   ],
   "source": [
    "course='ai'\n",
    "type(course),course"
   ]
  },
  {
   "cell_type": "markdown",
   "id": "92822c15",
   "metadata": {},
   "source": [
    "### Rule for naming variales"
   ]
  },
  {
   "cell_type": "markdown",
   "id": "a3c30ace",
   "metadata": {},
   "source": [
    "### Space is not allowed\n",
    "### only allowed spl character is _\n",
    "### variable name should not start with number\n",
    "### variable name start with A-Z,a-z or underscore"
   ]
  },
  {
   "cell_type": "markdown",
   "id": "9bd13c2a",
   "metadata": {},
   "source": [
    "### Data Structures\n"
   ]
  },
  {
   "cell_type": "markdown",
   "id": "2e671860",
   "metadata": {},
   "source": [
    "#### square brackets\n",
    "#### we can retrieve elements using index and inde starts from 0\n",
    "#### Mutable> we can make the changes"
   ]
  },
  {
   "cell_type": "code",
   "execution_count": 12,
   "id": "abf555de",
   "metadata": {},
   "outputs": [
    {
     "data": {
      "text/plain": [
       "[1, 3, 5, 32, 'hi']"
      ]
     },
     "execution_count": 12,
     "metadata": {},
     "output_type": "execute_result"
    }
   ],
   "source": [
    "sample_list=[1,3,5,32,\"hi\"]\n",
    "sample_list"
   ]
  },
  {
   "cell_type": "code",
   "execution_count": 13,
   "id": "a1bedd0d",
   "metadata": {},
   "outputs": [
    {
     "data": {
      "text/plain": [
       "list"
      ]
     },
     "execution_count": 13,
     "metadata": {},
     "output_type": "execute_result"
    }
   ],
   "source": [
    "type(sample_list)"
   ]
  },
  {
   "cell_type": "code",
   "execution_count": 14,
   "id": "c1abaec2",
   "metadata": {},
   "outputs": [
    {
     "data": {
      "text/plain": [
       "32"
      ]
     },
     "execution_count": 14,
     "metadata": {},
     "output_type": "execute_result"
    }
   ],
   "source": [
    "sample_list[3]"
   ]
  },
  {
   "cell_type": "code",
   "execution_count": 15,
   "id": "e512b3b7",
   "metadata": {},
   "outputs": [
    {
     "data": {
      "text/plain": [
       "[100, 3, 5, 32, 'hi']"
      ]
     },
     "execution_count": 15,
     "metadata": {},
     "output_type": "execute_result"
    }
   ],
   "source": [
    "sample_list[0]=100\n",
    "sample_list"
   ]
  },
  {
   "cell_type": "markdown",
   "id": "f290a16a",
   "metadata": {},
   "source": [
    "## tuples\n",
    "#### parenthesis\n",
    "#### we can retrieve elements using index and inde starts from 0\n",
    "#### Imutable> we can make the changes"
   ]
  },
  {
   "cell_type": "code",
   "execution_count": 16,
   "id": "802af160",
   "metadata": {},
   "outputs": [],
   "source": [
    "sample_tuple=(1,3,5,32,\"hi\")"
   ]
  },
  {
   "cell_type": "code",
   "execution_count": 17,
   "id": "d18ff01b",
   "metadata": {},
   "outputs": [
    {
     "data": {
      "text/plain": [
       "(1, 3, 5, 32, 'hi')"
      ]
     },
     "execution_count": 17,
     "metadata": {},
     "output_type": "execute_result"
    }
   ],
   "source": [
    "sample_tuple"
   ]
  },
  {
   "cell_type": "code",
   "execution_count": null,
   "id": "510e717e",
   "metadata": {},
   "outputs": [],
   "source": [
    "sample_tuple()"
   ]
  },
  {
   "cell_type": "markdown",
   "id": "a3786078",
   "metadata": {},
   "source": [
    "## set\n",
    "#### {}\n",
    "#### Duplicates are not allowed \n",
    "#### arranged according to firt place\n",
    "#### cannot access using index\n",
    "#### set is mutable\n"
   ]
  },
  {
   "cell_type": "code",
   "execution_count": 18,
   "id": "acfe5559",
   "metadata": {},
   "outputs": [
    {
     "data": {
      "text/plain": [
       "{1, 10, 2, 23.5, 3, 34, 4, 'apple', 'hi'}"
      ]
     },
     "execution_count": 18,
     "metadata": {},
     "output_type": "execute_result"
    }
   ],
   "source": [
    "sample_set={1,2,3,4,10,34,23.5,\"hi\",2,\"apple\"}\n",
    "sample_set"
   ]
  },
  {
   "cell_type": "code",
   "execution_count": 19,
   "id": "a83fcb30",
   "metadata": {},
   "outputs": [
    {
     "data": {
      "text/plain": [
       "{1, 10, 100, 2, 23.5, 3, 34, 4, 'apple', 'hi'}"
      ]
     },
     "execution_count": 19,
     "metadata": {},
     "output_type": "execute_result"
    }
   ],
   "source": [
    "sample_set.add(100)\n",
    "sample_set"
   ]
  },
  {
   "cell_type": "code",
   "execution_count": 20,
   "id": "c9c912e6",
   "metadata": {},
   "outputs": [
    {
     "data": {
      "text/plain": [
       "{1, 10, 100, 2, 23.5, 3, 34, 4, 'hi'}"
      ]
     },
     "execution_count": 20,
     "metadata": {},
     "output_type": "execute_result"
    }
   ],
   "source": [
    "sample_set.remove(\"apple\")\n",
    "sample_set"
   ]
  },
  {
   "cell_type": "markdown",
   "id": "26bfeae2",
   "metadata": {},
   "source": [
    "# Rules for dictionary"
   ]
  },
  {
   "cell_type": "markdown",
   "id": "de4ed8f5",
   "metadata": {},
   "source": [
    "### has key-value pair data structure \n",
    "### key is unique\n",
    "### value can be duplicated \n",
    "### value can be retrieved using key\n",
    "### key cannot be retrieved using value\n"
   ]
  },
  {
   "cell_type": "code",
   "execution_count": 1,
   "id": "b045c27a",
   "metadata": {},
   "outputs": [
    {
     "data": {
      "text/plain": [
       "{1: 'apple', 2: 'hi', 3: 'data', 6: 35.4, 7: 35.4}"
      ]
     },
     "execution_count": 1,
     "metadata": {},
     "output_type": "execute_result"
    }
   ],
   "source": [
    "sample_dict={1:\"apple\",2:35.4,3:\"data\",2:\"every\",6:35.4,7:35.4,2:\"hi\"}\n",
    "sample_dict"
   ]
  },
  {
   "cell_type": "code",
   "execution_count": 2,
   "id": "91e7ee96",
   "metadata": {},
   "outputs": [
    {
     "data": {
      "text/plain": [
       "'data'"
      ]
     },
     "execution_count": 2,
     "metadata": {},
     "output_type": "execute_result"
    }
   ],
   "source": [
    "sample_dict[3]"
   ]
  },
  {
   "cell_type": "code",
   "execution_count": 4,
   "id": "6a26d7e3",
   "metadata": {},
   "outputs": [],
   "source": [
    "sample_dict[7]=100"
   ]
  },
  {
   "cell_type": "code",
   "execution_count": 5,
   "id": "8865c644",
   "metadata": {},
   "outputs": [
    {
     "data": {
      "text/plain": [
       "{1: 'apple', 2: 'hi', 3: 'data', 6: 35.4, 7: 100}"
      ]
     },
     "execution_count": 5,
     "metadata": {},
     "output_type": "execute_result"
    }
   ],
   "source": [
    "sample_dict"
   ]
  },
  {
   "cell_type": "code",
   "execution_count": 7,
   "id": "d3c47910",
   "metadata": {},
   "outputs": [],
   "source": [
    "sample_dict[11]=\"Business\""
   ]
  },
  {
   "cell_type": "code",
   "execution_count": 8,
   "id": "bedb0f22",
   "metadata": {},
   "outputs": [
    {
     "data": {
      "text/plain": [
       "{1: 'apple', 2: 'hi', 3: 'data', 6: 35.4, 7: 100, 11: 'Business'}"
      ]
     },
     "execution_count": 8,
     "metadata": {},
     "output_type": "execute_result"
    }
   ],
   "source": [
    "sample_dict"
   ]
  },
  {
   "cell_type": "code",
   "execution_count": null,
   "id": "e0c5b08a",
   "metadata": {},
   "outputs": [],
   "source": []
  }
 ],
 "metadata": {
  "kernelspec": {
   "display_name": "Python 3 (ipykernel)",
   "language": "python",
   "name": "python3"
  },
  "language_info": {
   "codemirror_mode": {
    "name": "ipython",
    "version": 3
   },
   "file_extension": ".py",
   "mimetype": "text/x-python",
   "name": "python",
   "nbconvert_exporter": "python",
   "pygments_lexer": "ipython3",
   "version": "3.9.13"
  }
 },
 "nbformat": 4,
 "nbformat_minor": 5
}
